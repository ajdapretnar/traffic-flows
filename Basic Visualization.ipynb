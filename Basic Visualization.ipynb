{
 "cells": [
  {
   "cell_type": "code",
   "execution_count": 1,
   "metadata": {},
   "outputs": [],
   "source": [
    "import pandas as pd\n",
    "import numpy as np"
   ]
  },
  {
   "cell_type": "code",
   "execution_count": 11,
   "metadata": {},
   "outputs": [
    {
     "data": {
      "text/html": [
       "<div>\n",
       "<style scoped>\n",
       "    .dataframe tbody tr th:only-of-type {\n",
       "        vertical-align: middle;\n",
       "    }\n",
       "\n",
       "    .dataframe tbody tr th {\n",
       "        vertical-align: top;\n",
       "    }\n",
       "\n",
       "    .dataframe thead th {\n",
       "        text-align: right;\n",
       "    }\n",
       "</style>\n",
       "<table border=\"1\" class=\"dataframe\">\n",
       "  <thead>\n",
       "    <tr style=\"text-align: right;\">\n",
       "      <th></th>\n",
       "      <th></th>\n",
       "      <th></th>\n",
       "      <th>0</th>\n",
       "      <th>1</th>\n",
       "      <th>2</th>\n",
       "      <th>3</th>\n",
       "      <th>4</th>\n",
       "      <th>5</th>\n",
       "      <th>6</th>\n",
       "      <th>7</th>\n",
       "      <th>8</th>\n",
       "      <th>9</th>\n",
       "      <th>...</th>\n",
       "      <th>15</th>\n",
       "      <th>16</th>\n",
       "      <th>17</th>\n",
       "      <th>18</th>\n",
       "      <th>19</th>\n",
       "      <th>20</th>\n",
       "      <th>21</th>\n",
       "      <th>22</th>\n",
       "      <th>23</th>\n",
       "      <th>SUMA</th>\n",
       "    </tr>\n",
       "    <tr>\n",
       "      <th>STM</th>\n",
       "      <th>Month</th>\n",
       "      <th>Day</th>\n",
       "      <th></th>\n",
       "      <th></th>\n",
       "      <th></th>\n",
       "      <th></th>\n",
       "      <th></th>\n",
       "      <th></th>\n",
       "      <th></th>\n",
       "      <th></th>\n",
       "      <th></th>\n",
       "      <th></th>\n",
       "      <th></th>\n",
       "      <th></th>\n",
       "      <th></th>\n",
       "      <th></th>\n",
       "      <th></th>\n",
       "      <th></th>\n",
       "      <th></th>\n",
       "      <th></th>\n",
       "      <th></th>\n",
       "      <th></th>\n",
       "      <th></th>\n",
       "    </tr>\n",
       "  </thead>\n",
       "  <tbody>\n",
       "    <tr>\n",
       "      <th rowspan=\"5\" valign=\"top\">2</th>\n",
       "      <th rowspan=\"2\" valign=\"top\">1</th>\n",
       "      <th>Weekend</th>\n",
       "      <td>5.516129</td>\n",
       "      <td>4.258065</td>\n",
       "      <td>2.935484</td>\n",
       "      <td>2.580645</td>\n",
       "      <td>1.516129</td>\n",
       "      <td>5.064516</td>\n",
       "      <td>6.354839</td>\n",
       "      <td>14.483871</td>\n",
       "      <td>22.354839</td>\n",
       "      <td>31.709677</td>\n",
       "      <td>...</td>\n",
       "      <td>46.548387</td>\n",
       "      <td>41.870968</td>\n",
       "      <td>45.064516</td>\n",
       "      <td>40.096774</td>\n",
       "      <td>38.258065</td>\n",
       "      <td>27.000000</td>\n",
       "      <td>16.290323</td>\n",
       "      <td>12.225806</td>\n",
       "      <td>5.677419</td>\n",
       "      <td>SUMA1</td>\n",
       "    </tr>\n",
       "    <tr>\n",
       "      <th>Workday</th>\n",
       "      <td>2.112903</td>\n",
       "      <td>1.096774</td>\n",
       "      <td>0.725806</td>\n",
       "      <td>0.532258</td>\n",
       "      <td>0.532258</td>\n",
       "      <td>7.370968</td>\n",
       "      <td>11.580645</td>\n",
       "      <td>18.129032</td>\n",
       "      <td>27.903226</td>\n",
       "      <td>25.209677</td>\n",
       "      <td>...</td>\n",
       "      <td>73.000000</td>\n",
       "      <td>61.790323</td>\n",
       "      <td>68.725806</td>\n",
       "      <td>54.209677</td>\n",
       "      <td>41.451613</td>\n",
       "      <td>27.741935</td>\n",
       "      <td>16.693548</td>\n",
       "      <td>15.225806</td>\n",
       "      <td>5.919355</td>\n",
       "      <td>SUMA1</td>\n",
       "    </tr>\n",
       "    <tr>\n",
       "      <th rowspan=\"2\" valign=\"top\">2</th>\n",
       "      <th>Weekend</th>\n",
       "      <td>5.807692</td>\n",
       "      <td>4.346154</td>\n",
       "      <td>3.500000</td>\n",
       "      <td>2.923077</td>\n",
       "      <td>2.076923</td>\n",
       "      <td>4.923077</td>\n",
       "      <td>5.961538</td>\n",
       "      <td>14.076923</td>\n",
       "      <td>27.923077</td>\n",
       "      <td>39.153846</td>\n",
       "      <td>...</td>\n",
       "      <td>45.615385</td>\n",
       "      <td>38.846154</td>\n",
       "      <td>41.615385</td>\n",
       "      <td>39.884615</td>\n",
       "      <td>33.000000</td>\n",
       "      <td>22.115385</td>\n",
       "      <td>15.846154</td>\n",
       "      <td>11.461538</td>\n",
       "      <td>6.269231</td>\n",
       "      <td>SUMA1</td>\n",
       "    </tr>\n",
       "    <tr>\n",
       "      <th>Workday</th>\n",
       "      <td>2.372881</td>\n",
       "      <td>1.627119</td>\n",
       "      <td>0.728814</td>\n",
       "      <td>0.661017</td>\n",
       "      <td>0.661017</td>\n",
       "      <td>7.322034</td>\n",
       "      <td>11.542373</td>\n",
       "      <td>19.322034</td>\n",
       "      <td>29.694915</td>\n",
       "      <td>26.932203</td>\n",
       "      <td>...</td>\n",
       "      <td>69.677966</td>\n",
       "      <td>62.186441</td>\n",
       "      <td>68.033898</td>\n",
       "      <td>55.135593</td>\n",
       "      <td>41.338983</td>\n",
       "      <td>29.576271</td>\n",
       "      <td>17.610169</td>\n",
       "      <td>14.830508</td>\n",
       "      <td>6.101695</td>\n",
       "      <td>SUMA1</td>\n",
       "    </tr>\n",
       "    <tr>\n",
       "      <th>3</th>\n",
       "      <th>Weekend</th>\n",
       "      <td>7.307692</td>\n",
       "      <td>4.689655</td>\n",
       "      <td>3.217391</td>\n",
       "      <td>2.807692</td>\n",
       "      <td>1.692308</td>\n",
       "      <td>6.038462</td>\n",
       "      <td>7.846154</td>\n",
       "      <td>19.923077</td>\n",
       "      <td>40.269231</td>\n",
       "      <td>62.461538</td>\n",
       "      <td>...</td>\n",
       "      <td>55.423077</td>\n",
       "      <td>45.384615</td>\n",
       "      <td>43.461538</td>\n",
       "      <td>40.423077</td>\n",
       "      <td>40.192308</td>\n",
       "      <td>28.500000</td>\n",
       "      <td>18.576923</td>\n",
       "      <td>11.538462</td>\n",
       "      <td>7.307692</td>\n",
       "      <td>SUMA1</td>\n",
       "    </tr>\n",
       "  </tbody>\n",
       "</table>\n",
       "<p>5 rows × 25 columns</p>\n",
       "</div>"
      ],
      "text/plain": [
       "                          0         1         2         3         4         5  \\\n",
       "STM Month Day                                                                   \n",
       "2   1     Weekend  5.516129  4.258065  2.935484  2.580645  1.516129  5.064516   \n",
       "          Workday  2.112903  1.096774  0.725806  0.532258  0.532258  7.370968   \n",
       "    2     Weekend  5.807692  4.346154  3.500000  2.923077  2.076923  4.923077   \n",
       "          Workday  2.372881  1.627119  0.728814  0.661017  0.661017  7.322034   \n",
       "    3     Weekend  7.307692  4.689655  3.217391  2.807692  1.692308  6.038462   \n",
       "\n",
       "                           6          7          8          9  ...         15  \\\n",
       "STM Month Day                                                  ...              \n",
       "2   1     Weekend   6.354839  14.483871  22.354839  31.709677  ...  46.548387   \n",
       "          Workday  11.580645  18.129032  27.903226  25.209677  ...  73.000000   \n",
       "    2     Weekend   5.961538  14.076923  27.923077  39.153846  ...  45.615385   \n",
       "          Workday  11.542373  19.322034  29.694915  26.932203  ...  69.677966   \n",
       "    3     Weekend   7.846154  19.923077  40.269231  62.461538  ...  55.423077   \n",
       "\n",
       "                          16         17         18         19         20  \\\n",
       "STM Month Day                                                              \n",
       "2   1     Weekend  41.870968  45.064516  40.096774  38.258065  27.000000   \n",
       "          Workday  61.790323  68.725806  54.209677  41.451613  27.741935   \n",
       "    2     Weekend  38.846154  41.615385  39.884615  33.000000  22.115385   \n",
       "          Workday  62.186441  68.033898  55.135593  41.338983  29.576271   \n",
       "    3     Weekend  45.384615  43.461538  40.423077  40.192308  28.500000   \n",
       "\n",
       "                          21         22        23   SUMA  \n",
       "STM Month Day                                             \n",
       "2   1     Weekend  16.290323  12.225806  5.677419  SUMA1  \n",
       "          Workday  16.693548  15.225806  5.919355  SUMA1  \n",
       "    2     Weekend  15.846154  11.461538  6.269231  SUMA1  \n",
       "          Workday  17.610169  14.830508  6.101695  SUMA1  \n",
       "    3     Weekend  18.576923  11.538462  7.307692  SUMA1  \n",
       "\n",
       "[5 rows x 25 columns]"
      ]
     },
     "execution_count": 11,
     "metadata": {},
     "output_type": "execute_result"
    }
   ],
   "source": [
    "df = pd.read_csv(\"data/cars-pivot.csv\", index_col=[\"STM\", \"Month\", \"Day\"])\n",
    "df.head()"
   ]
  },
  {
   "cell_type": "markdown",
   "metadata": {},
   "source": [
    "Average traffic by the hour of the day."
   ]
  },
  {
   "cell_type": "code",
   "execution_count": 13,
   "metadata": {},
   "outputs": [
    {
     "data": {
      "text/plain": [
       "<matplotlib.axes._subplots.AxesSubplot at 0x10c5be580>"
      ]
     },
     "execution_count": 13,
     "metadata": {},
     "output_type": "execute_result"
    },
    {
     "data": {
      "image/png": "[encoded data removed]",
      "text/plain": [
       "<Figure size 432x288 with 1 Axes>"
      ]
     },
     "metadata": {
      "needs_background": "light"
     },
     "output_type": "display_data"
    }
   ],
   "source": [
    "df.mean().plot.line()"
   ]
  },
  {
   "cell_type": "markdown",
   "metadata": {},
   "source": [
    "Average traffic by the type of day (workday and weekend)."
   ]
  },
  {
   "cell_type": "code",
   "execution_count": 20,
   "metadata": {},
   "outputs": [
    {
     "data": {
      "text/plain": [
       "<matplotlib.axes._subplots.AxesSubplot at 0x12495d7f0>"
      ]
     },
     "execution_count": 20,
     "metadata": {},
     "output_type": "execute_result"
    },
    {
     "data": {
      "image/png": "[encoded data removed]",
      "text/plain": [
       "<Figure size 432x288 with 1 Axes>"
      ]
     },
     "metadata": {
      "needs_background": "light"
     },
     "output_type": "display_data"
    }
   ],
   "source": [
    "df.groupby(df.index.get_level_values(2)).mean().T.plot()"
   ]
  },
  {
   "cell_type": "markdown",
   "metadata": {},
   "source": [
    "Average traffic by the month of the year."
   ]
  },
  {
   "cell_type": "code",
   "execution_count": 30,
   "metadata": {},
   "outputs": [
    {
     "data": {
      "text/plain": [
       "<matplotlib.axes._subplots.AxesSubplot at 0x12514dfa0>"
      ]
     },
     "execution_count": 30,
     "metadata": {},
     "output_type": "execute_result"
    },
    {
     "data": {
      "image/png": "[encoded data removed]",
      "text/plain": [
       "<Figure size 432x288 with 1 Axes>"
      ]
     },
     "metadata": {
      "needs_background": "light"
     },
     "output_type": "display_data"
    }
   ],
   "source": [
    "df.groupby(df.index.get_level_values(1)).mean().T.mean().plot()"
   ]
  },
  {
   "cell_type": "code",
   "execution_count": null,
   "metadata": {},
   "outputs": [],
   "source": []
  }
 ],
 "metadata": {
  "kernelspec": {
   "display_name": "Python 3",
   "language": "python",
   "name": "python3"
  },
  "language_info": {
   "codemirror_mode": {
    "name": "ipython",
    "version": 3
   },
   "file_extension": ".py",
   "mimetype": "text/x-python",
   "name": "python",
   "nbconvert_exporter": "python",
   "pygments_lexer": "ipython3",
   "version": "3.8.2"
  }
 },
 "nbformat": 4,
 "nbformat_minor": 4
}
